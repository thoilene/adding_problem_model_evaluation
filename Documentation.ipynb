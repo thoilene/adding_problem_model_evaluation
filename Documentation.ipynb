{
 "cells": [
  {
   "cell_type": "markdown",
   "id": "1a62e5fb",
   "metadata": {},
   "source": [
    "# Recurrent Networks of ReLu Units with Identity Matrix Initializer - Model Evaluation on Adding Problem Dataset"
   ]
  },
  {
   "cell_type": "markdown",
   "id": "0a92b14f",
   "metadata": {},
   "source": [
    "## Introduction"
   ]
  },
  {
   "cell_type": "markdown",
   "id": "6ab46785",
   "metadata": {},
   "source": [
    "The objective is to train a Sequence Model that learns to compute the sum of two real\n",
    "numbers. The task is described in detail in \"Le et al (2015) - A Simple Way to Initialize\n",
    "Recurrent Networks of Rectified Linear Units”(https://arxiv.org/pdf/1504.00941.pdf), chapter\n",
    "4.1. \n",
    "\n",
    "The current work provides an evaluation that shows how the model performs depending on\n",
    "training progress (epochs) as well as input sequence length. It aslo demonstrates that the\n",
    "model does not exhibit overfitting."
   ]
  },
  {
   "cell_type": "markdown",
   "id": "e2ee1b39",
   "metadata": {},
   "source": [
    "## Adding Problem Datasets"
   ]
  },
  {
   "cell_type": "markdown",
   "id": "3fcbd3a7",
   "metadata": {},
   "source": [
    "Adding problem datastets are sets of sequences and their target values depending on the length of each sequence.\n",
    "For the current work, 100,000 samples are generated for training, 10,000 samples for validation and 20,000 samples for testing for each sequence length included in [50, 60, 70, 80, 90, 100]. \n",
    "\n",
    "However the packages provides a function to generate a dataset in a flexible way with number of samples needed for training, validation and testing. Even the length of the sequence can be chosen as needed."
   ]
  },
  {
   "cell_type": "markdown",
   "id": "e89119ed",
   "metadata": {},
   "source": [
    "## Model"
   ]
  },
  {
   "cell_type": "markdown",
   "id": "0cec4c0a",
   "metadata": {},
   "source": [
    "The model proposed in \"Le et al (2015)...\" is a recurrent network of rectified linear units and identity matrix for the recurrent initializer. As described in chapter 4.1, the adding problem is a sequence regression problem where the target is a sum of\n",
    "two numbers selected in a sequence of random signals, which are sampled from a uniform distribution\n",
    "in [0,1]. At every time step, the input consists of a random signal and a mask signal. The mask\n",
    "signal has a value of zero at all time steps except for two steps when it has values of 1 to indicate\n",
    "which two numbers should be added. An example of the adding problem is shown in figure 1 below.\n",
    "\n",
    "![image info](adding_sequence.JPG)\n",
    "\n",
    "The model is very simple: simple reccurent neural network with 100 units, relu activation and reccurent initializer.\n",
    "\n",
    "![image info](Model1.JPG)\n",
    "\n",
    "Here is the model summary and a view of the model architecture.\n",
    "\n",
    "![image info](Model.JPG)\n",
    "\n",
    "Default features of the model are the following:  \n",
    "\n",
    "- loss: tf.keras.losses.Huber\n",
    "- optimizer. tf.keras.optimizers.SGD with default parameters\n",
    "- metrics: mean squared error\n",
    "\n",
    "Some of these features are subject to parameter tuning when it comes to model optimization in the section Model Evaluation below.\n",
    "                        \n",
    "The major advantage of the model is to run faster than other sequence model like LSTM which performs much more computations."
   ]
  },
  {
   "cell_type": "markdown",
   "id": "6a7c8caf",
   "metadata": {},
   "source": [
    "## Model Evaluation"
   ]
  },
  {
   "cell_type": "markdown",
   "id": "a2803d9d",
   "metadata": {},
   "source": [
    "### Solution package"
   ]
  },
  {
   "cell_type": "markdown",
   "id": "24dd4f5f",
   "metadata": {},
   "source": [
    "Model evaluation is the core of this work. A package of python functions and classes provides functionality to evaluate the model.\n",
    "\n",
    "***Python module:***\n",
    "- adding_problem_model_evaluation.py\n",
    "\n",
    "***Classes:***\n",
    "- Adding_Problem_DataGenerator\n",
    "- Adding_Problem_ModelEvaluator\n",
    "\n",
    "***Global functions***\n",
    "- create_simple_model\n",
    "- create_model\n",
    "- save_data\n",
    "- load_data\n",
    "\n",
    "Description of functions and classes is embedded in the python module."
   ]
  },
  {
   "cell_type": "markdown",
   "id": "45339afe",
   "metadata": {},
   "source": [
    "### Requirements\n",
    "\n",
    "In order to use this package you need to have following packages installed:\n",
    "- Python >= 3.7.13\n",
    "- tensorflow >= 2.9.1\n",
    "- keras >= 2.9.0\n",
    "- bayesian-optimization >= 1.3.1\n",
    "- scikeras >= 0.9.0\n",
    "- numpy >= 1.21.5"
   ]
  },
  {
   "cell_type": "markdown",
   "id": "8299b2db",
   "metadata": {},
   "source": [
    "## Installation\n",
    "\n",
    "The package ***adding_problem_model_evaluation*** is publicly accessible on pypi.\n",
    "\n",
    "To install the package you need to run following command:\n",
    "\n",
    "***pip instal adding_problem_model_evaluation***"
   ]
  },
  {
   "cell_type": "markdown",
   "id": "c1cad8b7",
   "metadata": {},
   "source": [
    "### Utilization of model evaluation solution\n",
    "\n",
    "It is shown in Examples.ipynb how to use the functionalities of the package."
   ]
  },
  {
   "cell_type": "markdown",
   "id": "292df086",
   "metadata": {},
   "source": [
    "## Results of Model Evaluation"
   ]
  },
  {
   "cell_type": "markdown",
   "id": "4da8ceaa",
   "metadata": {},
   "source": [
    "   "
   ]
  },
  {
   "cell_type": "markdown",
   "id": "4a5c9b34",
   "metadata": {},
   "source": [
    "### Results of model evaluation with default parametrization"
   ]
  },
  {
   "cell_type": "markdown",
   "id": "41b814da",
   "metadata": {},
   "source": [
    "![image info](Model_Eval_NP.JPG)\n",
    "\n",
    "For low sequence length up to 50 the model works very good with default parameters. For sequence length from 60 upwards the does not really learn with increasing learning steps. Even between steps 40 and 60 where the mean squared error is below 0.10 the model tends to overfit as the validation set mean squared error is far lower. Hence the model with default parametrization is inappropriate for sequence length from 60 and above.\n",
    "\n",
    "From the starting point let's check whether better performance could be achieved for sequence length above 60 with selected learning rate depending on sequence length."
   ]
  },
  {
   "cell_type": "markdown",
   "id": "f2a34fc2",
   "metadata": {},
   "source": [
    "### Results of model evaluation with sequence length dependent selected learning rate"
   ]
  },
  {
   "cell_type": "markdown",
   "id": "81eeb831",
   "metadata": {},
   "source": [
    "In order to selected an appropriate learning rate for the model given a list of sequence lengths [50, 60, 70, 80, 90, 100] let's plot the performance metric mean squared error with regard of learning rate.\n",
    "![image info](Learning_rate_plot.JPG)\n",
    "\n",
    "Learning rate 1.e-3 appears to be the most appropriate value for all 6 sequence lengths above.\n",
    "\n",
    "Running the model with learning rate 1.e-3 shows a convergence of all models. But real improvement is shown for the model with sequence length 60. For the model with sequence length 70 or 80 there is no real learning effect with increasing learning step. The performance metric mean squared error for the model with sequence length 70 is arround 0.1652 from learning step 2 until step 100. Similar behavior is observable for the model with sequence length 80 with performance metric mean squared error around 0.1665.\n",
    "\n",
    "![image info](Model_Eval_LR0001_2.JPG)\n",
    "\n",
    "In order to achieve high performance of the model for sequence length from 70 or above, this work provides a parameter tuning functionality with bayesian optimization. "
   ]
  },
  {
   "cell_type": "markdown",
   "id": "3b227e03",
   "metadata": {},
   "source": [
    "### Results of model evaluation with sequence length dependent bayesian optimization"
   ]
  },
  {
   "cell_type": "markdown",
   "id": "c9a2502f",
   "metadata": {},
   "source": [
    "For sequence length above 70 the model performs well slightly below mean squared error 0.17. But a better performance could be achieved after tuning the model. The bayesian optimization with cross validation is applied in this work to this end. But model tuning is highly time consumming.\n",
    "\n",
    "For ***sequence length 70*** the best parameter set is ***{'clipnorm':70.81, 'learning_rate':0.0003038, 'momentum': 0.9602}***.\n",
    "A very high performance is achieved as shown on the picture right below."
   ]
  },
  {
   "cell_type": "markdown",
   "id": "26751d51",
   "metadata": {},
   "source": [
    "![image info](tuning_params_70_2.JPG)"
   ]
  },
  {
   "cell_type": "markdown",
   "id": "ae3d9397",
   "metadata": {},
   "source": [
    "For long sequences, example of ***sequence length 150*** the best parameter set is ***{'clipnorm': 33.63305523122102, 'learning_rate': 0.0006754620538432753, 'momentum': 0.8697291008067327}***. The model is truly struggling for those long sequences. A very high performance is achieved between learning steps 35 and 100 as shown on the picture right below.\n",
    "\n",
    "![image info](tuning_params_150_2.JPG)\n"
   ]
  },
  {
   "cell_type": "markdown",
   "id": "d6dc11f9",
   "metadata": {},
   "source": [
    "## Results summary\n",
    "\n",
    "The model performs very well with the right learning rate for short to mid-length sequences up to 60. For longer sequences from 70 and above, the performance stays around mse 0.17 (without parameter tuning).\n",
    "\n",
    "With hyper parameter tuning the model performs very well even for long sequences (at least up to 150)."
   ]
  },
  {
   "cell_type": "markdown",
   "id": "a77788c4",
   "metadata": {},
   "source": [
    "![image info](recapitulation.JPG)\n",
    "![image info](summary.JPG)\n"
   ]
  },
  {
   "cell_type": "markdown",
   "id": "3d5bcc2c",
   "metadata": {},
   "source": [
    "    "
   ]
  }
 ],
 "metadata": {
  "kernelspec": {
   "display_name": "Python 3 (ipykernel)",
   "language": "python",
   "name": "python3"
  },
  "language_info": {
   "codemirror_mode": {
    "name": "ipython",
    "version": 3
   },
   "file_extension": ".py",
   "mimetype": "text/x-python",
   "name": "python",
   "nbconvert_exporter": "python",
   "pygments_lexer": "ipython3",
   "version": "3.7.13"
  }
 },
 "nbformat": 4,
 "nbformat_minor": 5
}
